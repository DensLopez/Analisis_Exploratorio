{
 "cells": [
  {
   "cell_type": "markdown",
   "metadata": {},
   "source": [
    "# Recolección de  datos, limpieza y validación"
   ]
  },
  {
   "cell_type": "markdown",
   "metadata": {},
   "source": [
    "En las clases anteriores ya se han trabajado algunos temas particulares, desde la exploración a primera vista, importación de datos y forma de cargar dentro de un entorno.\n",
    "\n",
    "Ademas se observó que existe un set de datos que ya esta **pre-procesado**. Esto quiere decir que ya se le aplico alguna limpieza y validación para que se pudieran trabajar con ellos. Pero en este curso abordaremos ese tema. \n",
    "\n",
    "Así que preparemos todo nuestro set para poder trabajar con el.\n",
    "\n",
    "\n",
    "\n",
    "<p>\n",
    "  <a href=\"#Que_es_la_recoleccion\">Vamos allá</a> \n",
    "</p>"
   ]
  },
  {
   "cell_type": "code",
   "execution_count": 4,
   "metadata": {},
   "outputs": [],
   "source": [
    "# Importando librerías \n",
    "import empiricaldist\n",
    "import janitor\n",
    "import matplotlib.pyplot as plt\n",
    "import numpy as np\n",
    "import palmerpenguins\n",
    "import pandas as pd\n",
    "import scipy.stats\n",
    "import seaborn as sns\n",
    "import sklearn.metrics\n",
    "import statsmodels.api as sm\n",
    "import statsmodels.formula.api as smf\n",
    "import statsmodels.stats as ss\n",
    "import session_info"
   ]
  },
  {
   "cell_type": "markdown",
   "metadata": {},
   "source": [
    "## Establecer apariencia general de las gráficas"
   ]
  },
  {
   "cell_type": "code",
   "execution_count": 5,
   "metadata": {},
   "outputs": [],
   "source": [
    "%matplotlib inline\n",
    "sns.set_style(style='whitegrid')\n",
    "sns.set_context(context='notebook')\n",
    "plt.rcParams['figure.figsize'] = (11, 9.4)\n",
    "\n",
    "penguin_color = {\n",
    "    'Adelie': '#ff6602ff',\n",
    "    'Gentoo': '#0f7175ff',\n",
    "    'Chinstrap': '#c65dc9ff'\n",
    "}"
   ]
  },
  {
   "cell_type": "markdown",
   "metadata": {},
   "source": [
    "## Cargar los datos\n",
    "\n",
    "### Datos crudos"
   ]
  },
  {
   "cell_type": "code",
   "execution_count": 6,
   "metadata": {},
   "outputs": [],
   "source": [
    "raw_penguins_df = pd.read_csv('dataset/penguins_raw.csv')"
   ]
  },
  {
   "cell_type": "markdown",
   "metadata": {},
   "source": [
    "### Datos Preprocesados"
   ]
  },
  {
   "cell_type": "markdown",
   "metadata": {},
   "source": [
    "**NOTA:** Puede que no usemos estos datos"
   ]
  },
  {
   "cell_type": "code",
   "execution_count": 7,
   "metadata": {},
   "outputs": [],
   "source": [
    "preprocessed_penguins_df = pd.read_csv('dataset/penguins.csv')\n"
   ]
  },
  {
   "cell_type": "markdown",
   "metadata": {},
   "source": [
    "#### **Preguntas:**\n",
    "- ¿Cuantos años en promedio vive un pingüino?\n",
    "- ¿Las hembras viven mas que los machos?\n",
    "- ¿Cuál es el rasgo más importante para definir el sexo de un pingüino?\n",
    "- ¿Existe una relación de tamaño en cuerpo o algún elemento en el pingüino para que sea hembra?\n",
    "- De esas 3 especies ¿una de ellas es mas grande que las demás?\n",
    "- ¿Existe una relación entre tamaño y edad?\n",
    "- ¿En que parte o isla hay una mayor población de pingüinos?\n",
    "- ¿Existe una relación entre el sexo y el lugar (isla) que predomine? \n",
    "- ¿Qué especie es más común?"
   ]
  },
  {
   "cell_type": "markdown",
   "metadata": {},
   "source": [
    "<h2 id=\"Que_es_la_recoleccion\">¿Qué es la recolección de datos?</h2>"
   ]
  },
  {
   "cell_type": "markdown",
   "metadata": {},
   "source": [
    "En general es el proceso que hicieron los científicos de capturar los datos sobre la Antártida.    \n",
    "De manera más formal:\n",
    ">\"Forma de recolección de información que permite obtener conocimiento de primera mano e ideas originales sobre el problema de investigación\""
   ]
  },
  {
   "cell_type": "markdown",
   "metadata": {},
   "source": [
    "### Tipos de recolección de datos:\n",
    "**Primaria:** \n",
    " \n",
    "Son los datos que recolectamos de primera mano; a través de entrevistas, encuestas experimentos y otros. En estos casos tu eres quien decides que recolectas y que quieres medir, por lo que tenemos el control total de los datos que necesitaremos y exploraremos, para dar respuesta a las preguntas.\n",
    "\n",
    "**Secundaria:**\n",
    "  \n",
    "En este tipo usaremos datos previamente recolectados por terceros (es decir una fuente primaria externa). Ejemplos son:\n",
    "- datos de gobierno\n",
    "- empresas  \n",
    "       \n",
    "Son datos que se encuentran abiertos y podemos utilizar en un análisis. Sin embargo no tenemos control sobre los parámetros que se midieron o el objetivo inicial por el cual se recolectaron los datos.\n",
    "\n",
    "**Terciaria**\n",
    "Son datos que se encuentran de fuentes externas, y por lo regular son vendidos por empresas.\n",
    "\n",
    "Un ejemplo podría ser datos relacionados a comportamiento de usuarios con sus compras.\n",
    "\n",
    "La desventaja es que no tienes control sobre los datos y puede no ayudarte con tu objetivo particular, pero son datos que siempre están disponibles."
   ]
  },
  {
   "cell_type": "markdown",
   "metadata": {},
   "source": [
    "#### ¿Qué es la validación de datos?\n",
    ">Es el proceso de asegurar la consistencia y precisión dentro de un conjunto de datos.\n",
    "\n",
    "Es decir que no tengamos comportamientos extraños dentro de nuestros datos, por otro lado debemos recordar lo siguiente:\n",
    ">Si los datos no son precisos desde el comienzo, los resultados definitivamente no serán precisos.\n",
    "\n",
    "https://www.safe.com/what-is/data-validation/"
   ]
  },
  {
   "cell_type": "markdown",
   "metadata": {},
   "source": [
    "### ¿Qué se debe validar para asegurar la consistencia de los datos?"
   ]
  },
  {
   "cell_type": "markdown",
   "metadata": {},
   "source": [
    "#### Verificar el modelo de datos\n",
    "Es decir si nos encontramos utilizando datos de otras personas, verifica que preguntas querías responder con este conjunto de datos. Si somos la persona que llevamos a cabo las entrevistas o los experimentos; haz demasiadas preguntas para saber si con los datos que vamos a empezar a recolectar vamos a poder responder las preguntas, y si estos datos van a tener sentido o existirá algún sesgo asociado a estas entrevistas."
   ]
  },
  {
   "cell_type": "markdown",
   "metadata": {},
   "source": [
    "#### Seguimiento de formato estándar de archivos\n",
    "Por ejemplo cuando nosotros cargamos un archivo **CSV** el archivo está separado por cada campo por una coma.\n",
    "\n",
    "Pero piensa en lugares donde se separan los números con comas, entonces si nosotros separamos el archivo con este tipo de datos, los datos ya no tendrían una consistencia porque habría separaciones en donde no se quieren.\n",
    "\n",
    "Por lo que es importante verificar la extensión de los datos y el formato interno que tienen dichos datos. "
   ]
  },
  {
   "cell_type": "markdown",
   "metadata": {},
   "source": [
    "#### Tipos de datos\n",
    "Verifica que las categorías de los datos correspondan con el contenido de cada categoría; es decir si la columna dice que son datos tipo **bool**, el contenido de toda la columna debería cumplir con ello."
   ]
  },
  {
   "cell_type": "markdown",
   "metadata": {},
   "source": [
    "#### Rango de las variables\n",
    "El rango de una variable es el conjunto de valores que puede tomar. Por ejemplo, en la calificación de un examen el rango debe ser de **5 a 10**, pero imaginemos que observamos un **-2**, este es un ejemplo de que hay un dato fuera del rango establecido y puede que por alguna razón se salga. Así que para el caso de nuestro data set, debemos hacernos algunas preguntas como:\n",
    "- ¿Cómo llegaron estos datos aquí?\n",
    "- ¿Será que tienen algún significado alterno que aun no conozco?\n",
    "- ¿Debo preservarlos?\n",
    "- ¿Debo eliminarlos?\n",
    "- Entre otras preguntas."
   ]
  },
  {
   "cell_type": "markdown",
   "metadata": {},
   "source": [
    "#### Unicidad\n",
    "Con esto nos referimos a **¿qué tan únicos son nuestros datos?**.\n",
    "\n",
    "Imaginemos que por cada pingüino nosotros establecemos una serie de datos, y por cada pingüino tenemos un **IDENTIFICADOR**.\n",
    "\n",
    "Otro día observamos el mismo set de datos pero tenemos un caso de un **IDENTIFICADOR DUPLICADO**, pero con diferentes datos. Esto ya no tiene sentido porque habíamos acordado que solo debía existir un **IDENTIFICADOR** de pingüino por cada fila, entonces debemos manejar este tipo de casos."
   ]
  },
  {
   "cell_type": "markdown",
   "metadata": {},
   "source": [
    "#### Consistencia de expresiones\n",
    "Con esto nos referimos a la manera en que las personas escriben o relatan la descripción de las variables o su comportamiento. Para este caso tenemos el ejemplo de las variables temporales:\n",
    "¿cómo escribes la fecha en tu país?\n",
    "- México: DD/MM/AAAA\n",
    "- EEUU: MM/DD/AA\n",
    "- Europa (la mayoría): DD/MM/AA\n",
    "- Ásia (la mayoría): AA/MM/DD\n",
    "- Perú MM/DD/AAA.\n",
    "\n",
    "Entonces trata de tomar en cuenta esto para poder entender y tener consistencia en las expresiones.\n",
    "\n",
    "Otro ejemplo: De acuerdo en nuestro dataset hay una categoría de **genero o sexo del pingüino**, entonces debería existir solo 2 opciones, así debemos fijarnos en la consistencia de las expresiones como:\n",
    "- Nada de abreviaciones.\n",
    "- Uniformidad en la escritura o formato.\n",
    "  - Mayúsculas en un lado y minúsculas en otro.\n",
    "\n",
    "Esto nos ayudará a que tenga consistencia nuestros datos y sigan un patrón asociado."
   ]
  },
  {
   "cell_type": "markdown",
   "metadata": {},
   "source": [
    "#### Valores nulos\n",
    "Algunas veces van a estar explícitos y otras veces implícitos, ¿que quiere decir esto?\n",
    "\n",
    "Es decir que nos vamos a dar cuenta que nuestros datos nulos **realmente faltan** en el conjunto de datos, es decir vamos a ver campos vacíos que denota que los datos no están.\n",
    "\n",
    "En otros casos el dato no aparecerá en los registros, por consiguiente es un dato faltante que no se puede trackear o no se puede hacer nada con el. En el caso de toparme con esto debo preguntarme; ¿realmente tengo todos los datos? y si me falta un dato y ese campo esta vació debo preguntarme ¿por qué está vació?, ¿será que lo puedo rellenar con otros datos?,¿será que está vació por procesos aleatorios?,¿o tiene un sentido?Estas preguntas deberemos hacerlas, pra asegurar la consistencia de los datos.\n",
    "\n"
   ]
  }
 ],
 "metadata": {
  "kernelspec": {
   "display_name": "explorato",
   "language": "python",
   "name": "python3"
  },
  "language_info": {
   "codemirror_mode": {
    "name": "ipython",
    "version": 3
   },
   "file_extension": ".py",
   "mimetype": "text/x-python",
   "name": "python",
   "nbconvert_exporter": "python",
   "pygments_lexer": "ipython3",
   "version": "3.10.12"
  }
 },
 "nbformat": 4,
 "nbformat_minor": 2
}

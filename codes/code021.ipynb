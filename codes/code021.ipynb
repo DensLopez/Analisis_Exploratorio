{
 "cells": [
  {
   "cell_type": "markdown",
   "metadata": {},
   "source": [
    "# Análisis de regresión multiple"
   ]
  },
  {
   "cell_type": "markdown",
   "metadata": {},
   "source": [
    "En clases pasadas aprendimos somo la regresión lineal y vimos sus limitaciones, entre ellas:\n",
    "1. Es lineal y no se pueden incorporar comportamientos no lineales.\n",
    "\n",
    "\n",
    "En la regresión multiple si puede hacer, ademas nos va a permitir analizar un poco más si la relación de variables afecta el comportamiento de nuestra variable objetivo."
   ]
  },
  {
   "cell_type": "code",
   "execution_count": 1,
   "metadata": {},
   "outputs": [],
   "source": [
    "# Importando librerías \n",
    "import empiricaldist\n",
    "import janitor\n",
    "import matplotlib.pyplot as plt\n",
    "import numpy as np\n",
    "import palmerpenguins\n",
    "import pandas as pd\n",
    "import scipy.stats\n",
    "import seaborn as sns\n",
    "import sklearn.metrics\n",
    "import statsmodels.api as sm\n",
    "import statsmodels.formula.api as smf\n",
    "import statsmodels.stats as ss\n",
    "import session_info"
   ]
  },
  {
   "cell_type": "markdown",
   "metadata": {},
   "source": [
    "## Establecer apariencia general de las gráficas"
   ]
  },
  {
   "cell_type": "code",
   "execution_count": 2,
   "metadata": {},
   "outputs": [],
   "source": [
    "%matplotlib inline\n",
    "sns.set_style(style='whitegrid')\n",
    "sns.set_context(context='notebook')\n",
    "plt.rcParams['figure.figsize'] = (11, 9.4)\n",
    "\n",
    "penguin_color = {\n",
    "    'Adelie': '#ff6602ff',\n",
    "    'Gentoo': '#0f7175ff',\n",
    "    'Chinstrap': '#c65dc9ff'\n",
    "}"
   ]
  },
  {
   "cell_type": "markdown",
   "metadata": {},
   "source": [
    "## Cargar los datos"
   ]
  },
  {
   "cell_type": "markdown",
   "metadata": {},
   "source": [
    "### Datos Preprocesados"
   ]
  },
  {
   "cell_type": "code",
   "execution_count": 3,
   "metadata": {},
   "outputs": [],
   "source": [
    "preprocessed_penguins_df = pd.read_csv('dataset/penguins.csv').dropna()"
   ]
  },
  {
   "cell_type": "code",
   "execution_count": 4,
   "metadata": {},
   "outputs": [
    {
     "name": "stdout",
     "output_type": "stream",
     "text": [
      "<class 'pandas.core.frame.DataFrame'>\n",
      "Int64Index: 333 entries, 0 to 343\n",
      "Data columns (total 8 columns):\n",
      " #   Column             Non-Null Count  Dtype  \n",
      "---  ------             --------------  -----  \n",
      " 0   species            333 non-null    object \n",
      " 1   island             333 non-null    object \n",
      " 2   bill_length_mm     333 non-null    float64\n",
      " 3   bill_depth_mm      333 non-null    float64\n",
      " 4   flipper_length_mm  333 non-null    float64\n",
      " 5   body_mass_g        333 non-null    float64\n",
      " 6   sex                333 non-null    object \n",
      " 7   year               333 non-null    int64  \n",
      "dtypes: float64(4), int64(1), object(3)\n",
      "memory usage: 23.4+ KB\n"
     ]
    }
   ],
   "source": [
    "preprocessed_penguins_df.info()"
   ]
  },
  {
   "cell_type": "markdown",
   "metadata": {},
   "source": [
    "## Análisis de regresión multiple"
   ]
  },
  {
   "cell_type": "markdown",
   "metadata": {},
   "source": [
    "Para ello, hagamos un experimento de tomar el rol de tomar medidas de los pingüinos y sus variables. \n",
    "\n",
    "Digamos que en un día no llevas bascula y no puedes saber cuanto pesa un pingüino, así que tienes que tomar las demás medidas, pero nos falta saber cuanto pesa el pingüino.\n",
    "\n",
    "¿Existe una manera que exista una asociación entre las variables y me permita determinar cuanto pesaba el pingüino? Vamos a averiguarlo usando la regresión multiple.\n",
    "\n",
    "### Creando modelos"
   ]
  },
  {
   "cell_type": "markdown",
   "metadata": {},
   "source": [
    "#### **Modelo 1**\n",
    "Usar una variable y compararla con otra. Anteriormente hicimos una regresión lineal simple en la cual usamos cierto modulo de `stats` y que nos servirá para la regresión multiple también."
   ]
  },
  {
   "cell_type": "code",
   "execution_count": 6,
   "metadata": {},
   "outputs": [
    {
     "data": {
      "text/html": [
       "<table class=\"simpletable\">\n",
       "<caption>OLS Regression Results</caption>\n",
       "<tr>\n",
       "  <th>Dep. Variable:</th>       <td>body_mass_g</td>   <th>  R-squared:         </th> <td>   0.347</td>\n",
       "</tr>\n",
       "<tr>\n",
       "  <th>Model:</th>                   <td>OLS</td>       <th>  Adj. R-squared:    </th> <td>   0.345</td>\n",
       "</tr>\n",
       "<tr>\n",
       "  <th>Method:</th>             <td>Least Squares</td>  <th>  F-statistic:       </th> <td>   176.2</td>\n",
       "</tr>\n",
       "<tr>\n",
       "  <th>Date:</th>             <td>Wed, 07 Aug 2024</td> <th>  Prob (F-statistic):</th> <td>1.54e-32</td>\n",
       "</tr>\n",
       "<tr>\n",
       "  <th>Time:</th>                 <td>18:48:52</td>     <th>  Log-Likelihood:    </th> <td> -2629.1</td>\n",
       "</tr>\n",
       "<tr>\n",
       "  <th>No. Observations:</th>      <td>   333</td>      <th>  AIC:               </th> <td>   5262.</td>\n",
       "</tr>\n",
       "<tr>\n",
       "  <th>Df Residuals:</th>          <td>   331</td>      <th>  BIC:               </th> <td>   5270.</td>\n",
       "</tr>\n",
       "<tr>\n",
       "  <th>Df Model:</th>              <td>     1</td>      <th>                     </th>     <td> </td>   \n",
       "</tr>\n",
       "<tr>\n",
       "  <th>Covariance Type:</th>      <td>nonrobust</td>    <th>                     </th>     <td> </td>   \n",
       "</tr>\n",
       "</table>\n",
       "<table class=\"simpletable\">\n",
       "<tr>\n",
       "         <td></td>           <th>coef</th>     <th>std err</th>      <th>t</th>      <th>P>|t|</th>  <th>[0.025</th>    <th>0.975]</th>  \n",
       "</tr>\n",
       "<tr>\n",
       "  <th>Intercept</th>      <td>  388.8452</td> <td>  289.817</td> <td>    1.342</td> <td> 0.181</td> <td> -181.271</td> <td>  958.961</td>\n",
       "</tr>\n",
       "<tr>\n",
       "  <th>bill_length_mm</th> <td>   86.7918</td> <td>    6.538</td> <td>   13.276</td> <td> 0.000</td> <td>   73.931</td> <td>   99.652</td>\n",
       "</tr>\n",
       "</table>\n",
       "<table class=\"simpletable\">\n",
       "<tr>\n",
       "  <th>Omnibus:</th>       <td> 6.141</td> <th>  Durbin-Watson:     </th> <td>   0.849</td>\n",
       "</tr>\n",
       "<tr>\n",
       "  <th>Prob(Omnibus):</th> <td> 0.046</td> <th>  Jarque-Bera (JB):  </th> <td>   4.899</td>\n",
       "</tr>\n",
       "<tr>\n",
       "  <th>Skew:</th>          <td>-0.197</td> <th>  Prob(JB):          </th> <td>  0.0864</td>\n",
       "</tr>\n",
       "<tr>\n",
       "  <th>Kurtosis:</th>      <td> 2.555</td> <th>  Cond. No.          </th> <td>    360.</td>\n",
       "</tr>\n",
       "</table><br/><br/>Notes:<br/>[1] Standard Errors assume that the covariance matrix of the errors is correctly specified."
      ],
      "text/plain": [
       "<class 'statsmodels.iolib.summary.Summary'>\n",
       "\"\"\"\n",
       "                            OLS Regression Results                            \n",
       "==============================================================================\n",
       "Dep. Variable:            body_mass_g   R-squared:                       0.347\n",
       "Model:                            OLS   Adj. R-squared:                  0.345\n",
       "Method:                 Least Squares   F-statistic:                     176.2\n",
       "Date:                Wed, 07 Aug 2024   Prob (F-statistic):           1.54e-32\n",
       "Time:                        18:48:52   Log-Likelihood:                -2629.1\n",
       "No. Observations:                 333   AIC:                             5262.\n",
       "Df Residuals:                     331   BIC:                             5270.\n",
       "Df Model:                           1                                         \n",
       "Covariance Type:            nonrobust                                         \n",
       "==================================================================================\n",
       "                     coef    std err          t      P>|t|      [0.025      0.975]\n",
       "----------------------------------------------------------------------------------\n",
       "Intercept        388.8452    289.817      1.342      0.181    -181.271     958.961\n",
       "bill_length_mm    86.7918      6.538     13.276      0.000      73.931      99.652\n",
       "==============================================================================\n",
       "Omnibus:                        6.141   Durbin-Watson:                   0.849\n",
       "Prob(Omnibus):                  0.046   Jarque-Bera (JB):                4.899\n",
       "Skew:                          -0.197   Prob(JB):                       0.0864\n",
       "Kurtosis:                       2.555   Cond. No.                         360.\n",
       "==============================================================================\n",
       "\n",
       "Notes:\n",
       "[1] Standard Errors assume that the covariance matrix of the errors is correctly specified.\n",
       "\"\"\""
      ]
     },
     "execution_count": 6,
     "metadata": {},
     "output_type": "execute_result"
    }
   ],
   "source": [
    "model_1 = (\n",
    "    smf.ols(\n",
    "        formula='body_mass_g ~ bill_length_mm',\n",
    "        data=preprocessed_penguins_df\n",
    "    )\n",
    "    .fit()\n",
    ")\n",
    "model_1.summary()"
   ]
  },
  {
   "cell_type": "markdown",
   "metadata": {},
   "source": [
    "Me va a dar la descripción de la variable dependiente y las variables que vaya agregando a mi modelo.\n",
    "\n",
    "Los parámetros que nos interesan se encuentran abajo, y nos interesa la pendiente (que se encuentra abajo de **intercept** como **bill_length_mm**).\n",
    "\n",
    "¿Qué pasaría si quiero agregar una nueva variable o combinarla con la variable anteriormente analizada? Lo hacemos agregando el signo de $'+'$"
   ]
  },
  {
   "cell_type": "markdown",
   "metadata": {},
   "source": [
    "#### **Modelo 2**"
   ]
  },
  {
   "cell_type": "code",
   "execution_count": 7,
   "metadata": {},
   "outputs": [
    {
     "data": {
      "text/html": [
       "<table class=\"simpletable\">\n",
       "<caption>OLS Regression Results</caption>\n",
       "<tr>\n",
       "  <th>Dep. Variable:</th>       <td>body_mass_g</td>   <th>  R-squared:         </th> <td>   0.467</td>\n",
       "</tr>\n",
       "<tr>\n",
       "  <th>Model:</th>                   <td>OLS</td>       <th>  Adj. R-squared:    </th> <td>   0.464</td>\n",
       "</tr>\n",
       "<tr>\n",
       "  <th>Method:</th>             <td>Least Squares</td>  <th>  F-statistic:       </th> <td>   144.8</td>\n",
       "</tr>\n",
       "<tr>\n",
       "  <th>Date:</th>             <td>Wed, 07 Aug 2024</td> <th>  Prob (F-statistic):</th> <td>7.04e-46</td>\n",
       "</tr>\n",
       "<tr>\n",
       "  <th>Time:</th>                 <td>20:15:49</td>     <th>  Log-Likelihood:    </th> <td> -2595.2</td>\n",
       "</tr>\n",
       "<tr>\n",
       "  <th>No. Observations:</th>      <td>   333</td>      <th>  AIC:               </th> <td>   5196.</td>\n",
       "</tr>\n",
       "<tr>\n",
       "  <th>Df Residuals:</th>          <td>   330</td>      <th>  BIC:               </th> <td>   5208.</td>\n",
       "</tr>\n",
       "<tr>\n",
       "  <th>Df Model:</th>              <td>     2</td>      <th>                     </th>     <td> </td>   \n",
       "</tr>\n",
       "<tr>\n",
       "  <th>Covariance Type:</th>      <td>nonrobust</td>    <th>                     </th>     <td> </td>   \n",
       "</tr>\n",
       "</table>\n",
       "<table class=\"simpletable\">\n",
       "<tr>\n",
       "         <td></td>           <th>coef</th>     <th>std err</th>      <th>t</th>      <th>P>|t|</th>  <th>[0.025</th>    <th>0.975]</th>  \n",
       "</tr>\n",
       "<tr>\n",
       "  <th>Intercept</th>      <td> 3413.4519</td> <td>  437.911</td> <td>    7.795</td> <td> 0.000</td> <td> 2552.002</td> <td> 4274.902</td>\n",
       "</tr>\n",
       "<tr>\n",
       "  <th>bill_length_mm</th> <td>   74.8126</td> <td>    6.076</td> <td>   12.313</td> <td> 0.000</td> <td>   62.860</td> <td>   86.765</td>\n",
       "</tr>\n",
       "<tr>\n",
       "  <th>bill_depth_mm</th>  <td> -145.5072</td> <td>   16.873</td> <td>   -8.624</td> <td> 0.000</td> <td> -178.699</td> <td> -112.315</td>\n",
       "</tr>\n",
       "</table>\n",
       "<table class=\"simpletable\">\n",
       "<tr>\n",
       "  <th>Omnibus:</th>       <td> 2.839</td> <th>  Durbin-Watson:     </th> <td>   1.798</td>\n",
       "</tr>\n",
       "<tr>\n",
       "  <th>Prob(Omnibus):</th> <td> 0.242</td> <th>  Jarque-Bera (JB):  </th> <td>   2.175</td>\n",
       "</tr>\n",
       "<tr>\n",
       "  <th>Skew:</th>          <td>-0.000</td> <th>  Prob(JB):          </th> <td>   0.337</td>\n",
       "</tr>\n",
       "<tr>\n",
       "  <th>Kurtosis:</th>      <td> 2.604</td> <th>  Cond. No.          </th> <td>    644.</td>\n",
       "</tr>\n",
       "</table><br/><br/>Notes:<br/>[1] Standard Errors assume that the covariance matrix of the errors is correctly specified."
      ],
      "text/plain": [
       "<class 'statsmodels.iolib.summary.Summary'>\n",
       "\"\"\"\n",
       "                            OLS Regression Results                            \n",
       "==============================================================================\n",
       "Dep. Variable:            body_mass_g   R-squared:                       0.467\n",
       "Model:                            OLS   Adj. R-squared:                  0.464\n",
       "Method:                 Least Squares   F-statistic:                     144.8\n",
       "Date:                Wed, 07 Aug 2024   Prob (F-statistic):           7.04e-46\n",
       "Time:                        20:15:49   Log-Likelihood:                -2595.2\n",
       "No. Observations:                 333   AIC:                             5196.\n",
       "Df Residuals:                     330   BIC:                             5208.\n",
       "Df Model:                           2                                         \n",
       "Covariance Type:            nonrobust                                         \n",
       "==================================================================================\n",
       "                     coef    std err          t      P>|t|      [0.025      0.975]\n",
       "----------------------------------------------------------------------------------\n",
       "Intercept       3413.4519    437.911      7.795      0.000    2552.002    4274.902\n",
       "bill_length_mm    74.8126      6.076     12.313      0.000      62.860      86.765\n",
       "bill_depth_mm   -145.5072     16.873     -8.624      0.000    -178.699    -112.315\n",
       "==============================================================================\n",
       "Omnibus:                        2.839   Durbin-Watson:                   1.798\n",
       "Prob(Omnibus):                  0.242   Jarque-Bera (JB):                2.175\n",
       "Skew:                          -0.000   Prob(JB):                        0.337\n",
       "Kurtosis:                       2.604   Cond. No.                         644.\n",
       "==============================================================================\n",
       "\n",
       "Notes:\n",
       "[1] Standard Errors assume that the covariance matrix of the errors is correctly specified.\n",
       "\"\"\""
      ]
     },
     "execution_count": 7,
     "metadata": {},
     "output_type": "execute_result"
    }
   ],
   "source": [
    "model_2 = (\n",
    "    smf.ols(\n",
    "        formula='body_mass_g ~ bill_length_mm + bill_depth_mm',\n",
    "        data=preprocessed_penguins_df\n",
    "    )\n",
    "    .fit()\n",
    ")\n",
    "model_2.summary()"
   ]
  },
  {
   "cell_type": "markdown",
   "metadata": {},
   "source": [
    "Tenemos la misma información, la variable dependiente (**body_mass_g**) y las variables que intentan explicarlo, ahora hay un cambio de:\n",
    "- **bill_length_mm:** 74.8126\n",
    "- **bill_depth_mm:** -145.5072\n",
    "\n",
    "Hay que empezar a asociar los resultados, en este caso **length** está asociado de manera positiva y **depth** de manera negativa."
   ]
  },
  {
   "cell_type": "markdown",
   "metadata": {},
   "source": [
    "#### **Modelo 3**"
   ]
  },
  {
   "cell_type": "code",
   "execution_count": 8,
   "metadata": {},
   "outputs": [
    {
     "data": {
      "text/html": [
       "<table class=\"simpletable\">\n",
       "<caption>OLS Regression Results</caption>\n",
       "<tr>\n",
       "  <th>Dep. Variable:</th>       <td>body_mass_g</td>   <th>  R-squared:         </th> <td>   0.764</td> \n",
       "</tr>\n",
       "<tr>\n",
       "  <th>Model:</th>                   <td>OLS</td>       <th>  Adj. R-squared:    </th> <td>   0.762</td> \n",
       "</tr>\n",
       "<tr>\n",
       "  <th>Method:</th>             <td>Least Squares</td>  <th>  F-statistic:       </th> <td>   354.9</td> \n",
       "</tr>\n",
       "<tr>\n",
       "  <th>Date:</th>             <td>Wed, 07 Aug 2024</td> <th>  Prob (F-statistic):</th> <td>9.26e-103</td>\n",
       "</tr>\n",
       "<tr>\n",
       "  <th>Time:</th>                 <td>20:21:38</td>     <th>  Log-Likelihood:    </th> <td> -2459.8</td> \n",
       "</tr>\n",
       "<tr>\n",
       "  <th>No. Observations:</th>      <td>   333</td>      <th>  AIC:               </th> <td>   4928.</td> \n",
       "</tr>\n",
       "<tr>\n",
       "  <th>Df Residuals:</th>          <td>   329</td>      <th>  BIC:               </th> <td>   4943.</td> \n",
       "</tr>\n",
       "<tr>\n",
       "  <th>Df Model:</th>              <td>     3</td>      <th>                     </th>     <td> </td>    \n",
       "</tr>\n",
       "<tr>\n",
       "  <th>Covariance Type:</th>      <td>nonrobust</td>    <th>                     </th>     <td> </td>    \n",
       "</tr>\n",
       "</table>\n",
       "<table class=\"simpletable\">\n",
       "<tr>\n",
       "          <td></td>             <th>coef</th>     <th>std err</th>      <th>t</th>      <th>P>|t|</th>  <th>[0.025</th>    <th>0.975]</th>  \n",
       "</tr>\n",
       "<tr>\n",
       "  <th>Intercept</th>         <td>-6445.4760</td> <td>  566.130</td> <td>  -11.385</td> <td> 0.000</td> <td>-7559.167</td> <td>-5331.785</td>\n",
       "</tr>\n",
       "<tr>\n",
       "  <th>bill_length_mm</th>    <td>    3.2929</td> <td>    5.366</td> <td>    0.614</td> <td> 0.540</td> <td>   -7.263</td> <td>   13.849</td>\n",
       "</tr>\n",
       "<tr>\n",
       "  <th>bill_depth_mm</th>     <td>   17.8364</td> <td>   13.826</td> <td>    1.290</td> <td> 0.198</td> <td>   -9.362</td> <td>   45.035</td>\n",
       "</tr>\n",
       "<tr>\n",
       "  <th>flipper_length_mm</th> <td>   50.7621</td> <td>    2.497</td> <td>   20.327</td> <td> 0.000</td> <td>   45.850</td> <td>   55.675</td>\n",
       "</tr>\n",
       "</table>\n",
       "<table class=\"simpletable\">\n",
       "<tr>\n",
       "  <th>Omnibus:</th>       <td> 5.596</td> <th>  Durbin-Watson:     </th> <td>   1.982</td>\n",
       "</tr>\n",
       "<tr>\n",
       "  <th>Prob(Omnibus):</th> <td> 0.061</td> <th>  Jarque-Bera (JB):  </th> <td>   5.469</td>\n",
       "</tr>\n",
       "<tr>\n",
       "  <th>Skew:</th>          <td> 0.312</td> <th>  Prob(JB):          </th> <td>  0.0649</td>\n",
       "</tr>\n",
       "<tr>\n",
       "  <th>Kurtosis:</th>      <td> 3.068</td> <th>  Cond. No.          </th> <td>5.44e+03</td>\n",
       "</tr>\n",
       "</table><br/><br/>Notes:<br/>[1] Standard Errors assume that the covariance matrix of the errors is correctly specified.<br/>[2] The condition number is large, 5.44e+03. This might indicate that there are<br/>strong multicollinearity or other numerical problems."
      ],
      "text/plain": [
       "<class 'statsmodels.iolib.summary.Summary'>\n",
       "\"\"\"\n",
       "                            OLS Regression Results                            \n",
       "==============================================================================\n",
       "Dep. Variable:            body_mass_g   R-squared:                       0.764\n",
       "Model:                            OLS   Adj. R-squared:                  0.762\n",
       "Method:                 Least Squares   F-statistic:                     354.9\n",
       "Date:                Wed, 07 Aug 2024   Prob (F-statistic):          9.26e-103\n",
       "Time:                        20:21:38   Log-Likelihood:                -2459.8\n",
       "No. Observations:                 333   AIC:                             4928.\n",
       "Df Residuals:                     329   BIC:                             4943.\n",
       "Df Model:                           3                                         \n",
       "Covariance Type:            nonrobust                                         \n",
       "=====================================================================================\n",
       "                        coef    std err          t      P>|t|      [0.025      0.975]\n",
       "-------------------------------------------------------------------------------------\n",
       "Intercept         -6445.4760    566.130    -11.385      0.000   -7559.167   -5331.785\n",
       "bill_length_mm        3.2929      5.366      0.614      0.540      -7.263      13.849\n",
       "bill_depth_mm        17.8364     13.826      1.290      0.198      -9.362      45.035\n",
       "flipper_length_mm    50.7621      2.497     20.327      0.000      45.850      55.675\n",
       "==============================================================================\n",
       "Omnibus:                        5.596   Durbin-Watson:                   1.982\n",
       "Prob(Omnibus):                  0.061   Jarque-Bera (JB):                5.469\n",
       "Skew:                           0.312   Prob(JB):                       0.0649\n",
       "Kurtosis:                       3.068   Cond. No.                     5.44e+03\n",
       "==============================================================================\n",
       "\n",
       "Notes:\n",
       "[1] Standard Errors assume that the covariance matrix of the errors is correctly specified.\n",
       "[2] The condition number is large, 5.44e+03. This might indicate that there are\n",
       "strong multicollinearity or other numerical problems.\n",
       "\"\"\""
      ]
     },
     "execution_count": 8,
     "metadata": {},
     "output_type": "execute_result"
    }
   ],
   "source": [
    "model_3 = (\n",
    "    smf.ols(\n",
    "        formula='body_mass_g ~ bill_length_mm + bill_depth_mm + flipper_length_mm',\n",
    "        data=preprocessed_penguins_df\n",
    "    )\n",
    "    .fit()\n",
    ")\n",
    "model_3.summary()"
   ]
  },
  {
   "cell_type": "markdown",
   "metadata": {},
   "source": [
    "Las comparamos y podemos ver las pendientes que se ajustan para cada una de las variables:\n",
    "- **bill length:** 3.2929 \n",
    "- **bill depth:** 17.8364\n",
    "- **flipper length:** 50.7624\n",
    "\n",
    "Hay que fijarnos que la longitud de pico cuando estaba sola significaba un gran cambio, conforme se fueron agregando variables; los resultados fueron cambiando. Ahora el **depth** no es negativo y al considerar diferentes variables los coeficientes van cambiando y va a ser necesario preguntarnos sobre la relación o validez de los datos.\n",
    "\n",
    "Tenemos que fijarnos en el parámetro $r^2 \\text{ ajustado}$.\n",
    "\n",
    "En general cuando tengas mas de 2 variables enfocate en $r^2 \\text{ ajustado}$ QUE NOS VA A INDICAR QUE TANTA VARIABILIDAD DE LOS DATOS SE ESTÁN AJUSTANDO.\n",
    "\n",
    "En este caso para **el modelo 3 tenemos: 0.762**, si lo comparamos con el **modelo 2 que tiene: 0.464**. De manera que el **modelo 3** está siendo más preciso, y finalmente para el **modelo 1** tenemos 0.345, lo que quiere decir que estamos capturando muy poca variabilidad de los datos.\n",
    "\n",
    "Conforme hemos ido aumentando el numero de variables estamos capturando mejor el comportamiento de nuestros pingüinos para predecir el peso que debería de tener.\n",
    "\n",
    "Podríamos considerar seguir agregando variables, por ejemplo podríamos considerar el sexo del pingüino "
   ]
  },
  {
   "cell_type": "markdown",
   "metadata": {},
   "source": [
    "### **Modelo 4**"
   ]
  },
  {
   "cell_type": "code",
   "execution_count": 20,
   "metadata": {},
   "outputs": [
    {
     "data": {
      "text/html": [
       "<table class=\"simpletable\">\n",
       "<caption>OLS Regression Results</caption>\n",
       "<tr>\n",
       "  <th>Dep. Variable:</th>       <td>body_mass_g</td>   <th>  R-squared:         </th> <td>   0.823</td> \n",
       "</tr>\n",
       "<tr>\n",
       "  <th>Model:</th>                   <td>OLS</td>       <th>  Adj. R-squared:    </th> <td>   0.821</td> \n",
       "</tr>\n",
       "<tr>\n",
       "  <th>Method:</th>             <td>Least Squares</td>  <th>  F-statistic:       </th> <td>   381.3</td> \n",
       "</tr>\n",
       "<tr>\n",
       "  <th>Date:</th>             <td>Wed, 07 Aug 2024</td> <th>  Prob (F-statistic):</th> <td>6.28e-122</td>\n",
       "</tr>\n",
       "<tr>\n",
       "  <th>Time:</th>                 <td>21:58:14</td>     <th>  Log-Likelihood:    </th> <td> -2411.8</td> \n",
       "</tr>\n",
       "<tr>\n",
       "  <th>No. Observations:</th>      <td>   333</td>      <th>  AIC:               </th> <td>   4834.</td> \n",
       "</tr>\n",
       "<tr>\n",
       "  <th>Df Residuals:</th>          <td>   328</td>      <th>  BIC:               </th> <td>   4853.</td> \n",
       "</tr>\n",
       "<tr>\n",
       "  <th>Df Model:</th>              <td>     4</td>      <th>                     </th>     <td> </td>    \n",
       "</tr>\n",
       "<tr>\n",
       "  <th>Covariance Type:</th>      <td>nonrobust</td>    <th>                     </th>     <td> </td>    \n",
       "</tr>\n",
       "</table>\n",
       "<table class=\"simpletable\">\n",
       "<tr>\n",
       "          <td></td>             <th>coef</th>     <th>std err</th>      <th>t</th>      <th>P>|t|</th>  <th>[0.025</th>    <th>0.975]</th>  \n",
       "</tr>\n",
       "<tr>\n",
       "  <th>Intercept</th>         <td>-2288.4650</td> <td>  631.580</td> <td>   -3.623</td> <td> 0.000</td> <td>-3530.924</td> <td>-1046.006</td>\n",
       "</tr>\n",
       "<tr>\n",
       "  <th>C(sex)[T.male]</th>    <td>  541.0285</td> <td>   51.710</td> <td>   10.463</td> <td> 0.000</td> <td>  439.304</td> <td>  642.753</td>\n",
       "</tr>\n",
       "<tr>\n",
       "  <th>bill_length_mm</th>    <td>   -2.3287</td> <td>    4.684</td> <td>   -0.497</td> <td> 0.619</td> <td>  -11.544</td> <td>    6.886</td>\n",
       "</tr>\n",
       "<tr>\n",
       "  <th>bill_depth_mm</th>     <td>  -86.0882</td> <td>   15.570</td> <td>   -5.529</td> <td> 0.000</td> <td> -116.718</td> <td>  -55.459</td>\n",
       "</tr>\n",
       "<tr>\n",
       "  <th>flipper_length_mm</th> <td>   38.8258</td> <td>    2.448</td> <td>   15.862</td> <td> 0.000</td> <td>   34.011</td> <td>   43.641</td>\n",
       "</tr>\n",
       "</table>\n",
       "<table class=\"simpletable\">\n",
       "<tr>\n",
       "  <th>Omnibus:</th>       <td> 2.598</td> <th>  Durbin-Watson:     </th> <td>   1.843</td>\n",
       "</tr>\n",
       "<tr>\n",
       "  <th>Prob(Omnibus):</th> <td> 0.273</td> <th>  Jarque-Bera (JB):  </th> <td>   2.125</td>\n",
       "</tr>\n",
       "<tr>\n",
       "  <th>Skew:</th>          <td> 0.062</td> <th>  Prob(JB):          </th> <td>   0.346</td>\n",
       "</tr>\n",
       "<tr>\n",
       "  <th>Kurtosis:</th>      <td> 2.629</td> <th>  Cond. No.          </th> <td>7.01e+03</td>\n",
       "</tr>\n",
       "</table><br/><br/>Notes:<br/>[1] Standard Errors assume that the covariance matrix of the errors is correctly specified.<br/>[2] The condition number is large, 7.01e+03. This might indicate that there are<br/>strong multicollinearity or other numerical problems."
      ],
      "text/plain": [
       "<class 'statsmodels.iolib.summary.Summary'>\n",
       "\"\"\"\n",
       "                            OLS Regression Results                            \n",
       "==============================================================================\n",
       "Dep. Variable:            body_mass_g   R-squared:                       0.823\n",
       "Model:                            OLS   Adj. R-squared:                  0.821\n",
       "Method:                 Least Squares   F-statistic:                     381.3\n",
       "Date:                Wed, 07 Aug 2024   Prob (F-statistic):          6.28e-122\n",
       "Time:                        21:58:14   Log-Likelihood:                -2411.8\n",
       "No. Observations:                 333   AIC:                             4834.\n",
       "Df Residuals:                     328   BIC:                             4853.\n",
       "Df Model:                           4                                         \n",
       "Covariance Type:            nonrobust                                         \n",
       "=====================================================================================\n",
       "                        coef    std err          t      P>|t|      [0.025      0.975]\n",
       "-------------------------------------------------------------------------------------\n",
       "Intercept         -2288.4650    631.580     -3.623      0.000   -3530.924   -1046.006\n",
       "C(sex)[T.male]      541.0285     51.710     10.463      0.000     439.304     642.753\n",
       "bill_length_mm       -2.3287      4.684     -0.497      0.619     -11.544       6.886\n",
       "bill_depth_mm       -86.0882     15.570     -5.529      0.000    -116.718     -55.459\n",
       "flipper_length_mm    38.8258      2.448     15.862      0.000      34.011      43.641\n",
       "==============================================================================\n",
       "Omnibus:                        2.598   Durbin-Watson:                   1.843\n",
       "Prob(Omnibus):                  0.273   Jarque-Bera (JB):                2.125\n",
       "Skew:                           0.062   Prob(JB):                        0.346\n",
       "Kurtosis:                       2.629   Cond. No.                     7.01e+03\n",
       "==============================================================================\n",
       "\n",
       "Notes:\n",
       "[1] Standard Errors assume that the covariance matrix of the errors is correctly specified.\n",
       "[2] The condition number is large, 7.01e+03. This might indicate that there are\n",
       "strong multicollinearity or other numerical problems.\n",
       "\"\"\""
      ]
     },
     "execution_count": 20,
     "metadata": {},
     "output_type": "execute_result"
    }
   ],
   "source": [
    "model_4 = (\n",
    "    smf.ols(\n",
    "        formula='body_mass_g ~ bill_length_mm + bill_depth_mm + flipper_length_mm + C(sex)',\n",
    "        data=preprocessed_penguins_df\n",
    "    )\n",
    "    .fit()\n",
    ")\n",
    "model_4.summary()"
   ]
  },
  {
   "cell_type": "markdown",
   "metadata": {},
   "source": [
    "Algo que no podías hacer con el modelo de regresión simple; es que no podíamos agregar variables categóricas, en este caso si podemos agregar variables categóricas con el modelo de regresión multiple. Lo único que tenemos que hacer es:\n",
    "- Encerrar a nuestra variable categórica entre paréntesis y con un 'C'. `C(sex)`"
   ]
  },
  {
   "cell_type": "markdown",
   "metadata": {},
   "source": [
    "#### Análisis  \n",
    "Nuevamente nos fijamos en el parámetro $\\text {adjust } r^2:$ y mejoró a **0.821**, pero ahora tenemos una pendiente que parece ser un poco diferente. **C(sex)[T.male] 541.0285**\n",
    "\n",
    "Esta pendiente lo que quiere decir es que está comparando el peso de los machos vs peso de las hembras. Lo que me dice es que LOS MACHOS PESAN 541.02 gr MAS QUE LAS HEMBRAS. Esta sería su interpretación.\n",
    "\n",
    "Así podríamos ir agregando más parámetros y haciendo más complejo el modelo, pero sucede algo muy importante;\n",
    "\n",
    "A veces el modelo más sencillo es más funcional y también podríamos combinar de otra forma las variables para ver su comportamiento."
   ]
  },
  {
   "cell_type": "markdown",
   "metadata": {},
   "source": [
    "### **Modelo 5**"
   ]
  },
  {
   "cell_type": "code",
   "execution_count": 17,
   "metadata": {},
   "outputs": [
    {
     "data": {
      "text/html": [
       "<table class=\"simpletable\">\n",
       "<caption>OLS Regression Results</caption>\n",
       "<tr>\n",
       "  <th>Dep. Variable:</th>       <td>body_mass_g</td>   <th>  R-squared:         </th> <td>   0.762</td> \n",
       "</tr>\n",
       "<tr>\n",
       "  <th>Model:</th>                   <td>OLS</td>       <th>  Adj. R-squared:    </th> <td>   0.761</td> \n",
       "</tr>\n",
       "<tr>\n",
       "  <th>Method:</th>             <td>Least Squares</td>  <th>  F-statistic:       </th> <td>   1060.</td> \n",
       "</tr>\n",
       "<tr>\n",
       "  <th>Date:</th>             <td>Wed, 07 Aug 2024</td> <th>  Prob (F-statistic):</th> <td>3.13e-105</td>\n",
       "</tr>\n",
       "<tr>\n",
       "  <th>Time:</th>                 <td>20:54:39</td>     <th>  Log-Likelihood:    </th> <td> -2461.1</td> \n",
       "</tr>\n",
       "<tr>\n",
       "  <th>No. Observations:</th>      <td>   333</td>      <th>  AIC:               </th> <td>   4926.</td> \n",
       "</tr>\n",
       "<tr>\n",
       "  <th>Df Residuals:</th>          <td>   331</td>      <th>  BIC:               </th> <td>   4934.</td> \n",
       "</tr>\n",
       "<tr>\n",
       "  <th>Df Model:</th>              <td>     1</td>      <th>                     </th>     <td> </td>    \n",
       "</tr>\n",
       "<tr>\n",
       "  <th>Covariance Type:</th>      <td>nonrobust</td>    <th>                     </th>     <td> </td>    \n",
       "</tr>\n",
       "</table>\n",
       "<table class=\"simpletable\">\n",
       "<tr>\n",
       "          <td></td>             <th>coef</th>     <th>std err</th>      <th>t</th>      <th>P>|t|</th>  <th>[0.025</th>    <th>0.975]</th>  \n",
       "</tr>\n",
       "<tr>\n",
       "  <th>Intercept</th>         <td>-5872.0927</td> <td>  310.285</td> <td>  -18.925</td> <td> 0.000</td> <td>-6482.472</td> <td>-5261.713</td>\n",
       "</tr>\n",
       "<tr>\n",
       "  <th>flipper_length_mm</th> <td>   50.1533</td> <td>    1.540</td> <td>   32.562</td> <td> 0.000</td> <td>   47.123</td> <td>   53.183</td>\n",
       "</tr>\n",
       "</table>\n",
       "<table class=\"simpletable\">\n",
       "<tr>\n",
       "  <th>Omnibus:</th>       <td> 5.922</td> <th>  Durbin-Watson:     </th> <td>   2.116</td>\n",
       "</tr>\n",
       "<tr>\n",
       "  <th>Prob(Omnibus):</th> <td> 0.052</td> <th>  Jarque-Bera (JB):  </th> <td>   5.876</td>\n",
       "</tr>\n",
       "<tr>\n",
       "  <th>Skew:</th>          <td> 0.325</td> <th>  Prob(JB):          </th> <td>  0.0530</td>\n",
       "</tr>\n",
       "<tr>\n",
       "  <th>Kurtosis:</th>      <td> 3.025</td> <th>  Cond. No.          </th> <td>2.90e+03</td>\n",
       "</tr>\n",
       "</table><br/><br/>Notes:<br/>[1] Standard Errors assume that the covariance matrix of the errors is correctly specified.<br/>[2] The condition number is large, 2.9e+03. This might indicate that there are<br/>strong multicollinearity or other numerical problems."
      ],
      "text/plain": [
       "<class 'statsmodels.iolib.summary.Summary'>\n",
       "\"\"\"\n",
       "                            OLS Regression Results                            \n",
       "==============================================================================\n",
       "Dep. Variable:            body_mass_g   R-squared:                       0.762\n",
       "Model:                            OLS   Adj. R-squared:                  0.761\n",
       "Method:                 Least Squares   F-statistic:                     1060.\n",
       "Date:                Wed, 07 Aug 2024   Prob (F-statistic):          3.13e-105\n",
       "Time:                        20:54:39   Log-Likelihood:                -2461.1\n",
       "No. Observations:                 333   AIC:                             4926.\n",
       "Df Residuals:                     331   BIC:                             4934.\n",
       "Df Model:                           1                                         \n",
       "Covariance Type:            nonrobust                                         \n",
       "=====================================================================================\n",
       "                        coef    std err          t      P>|t|      [0.025      0.975]\n",
       "-------------------------------------------------------------------------------------\n",
       "Intercept         -5872.0927    310.285    -18.925      0.000   -6482.472   -5261.713\n",
       "flipper_length_mm    50.1533      1.540     32.562      0.000      47.123      53.183\n",
       "==============================================================================\n",
       "Omnibus:                        5.922   Durbin-Watson:                   2.116\n",
       "Prob(Omnibus):                  0.052   Jarque-Bera (JB):                5.876\n",
       "Skew:                           0.325   Prob(JB):                       0.0530\n",
       "Kurtosis:                       3.025   Cond. No.                     2.90e+03\n",
       "==============================================================================\n",
       "\n",
       "Notes:\n",
       "[1] Standard Errors assume that the covariance matrix of the errors is correctly specified.\n",
       "[2] The condition number is large, 2.9e+03. This might indicate that there are\n",
       "strong multicollinearity or other numerical problems.\n",
       "\"\"\""
      ]
     },
     "execution_count": 17,
     "metadata": {},
     "output_type": "execute_result"
    }
   ],
   "source": [
    "model_5 = (\n",
    "    smf.ols(\n",
    "    formula ='body_mass_g ~ flipper_length_mm',\n",
    "    data = preprocessed_penguins_df\n",
    "    )\n",
    ".fit()\n",
    ")\n",
    "model_5.summary()"
   ]
  },
  {
   "cell_type": "markdown",
   "metadata": {},
   "source": [
    "Fijémonos que la variable por si sola, ya ajusta el 0.76 de la variabilidad de los datos y nos da la pendiente que representa que un cambio en la longitud de la aleta representa 50 gr más.\n",
    "\n",
    "Entonces una variable por si solo ya nos está dando mayor grado de variabilidad de los datos que un conjunto de variables (3 variables).\n",
    "\n",
    "Podríamos considerar añadir la variable categórica del **sexo**, para saber si existe una mejora en el modelo."
   ]
  },
  {
   "cell_type": "code",
   "execution_count": 18,
   "metadata": {},
   "outputs": [
    {
     "data": {
      "text/html": [
       "<table class=\"simpletable\">\n",
       "<caption>OLS Regression Results</caption>\n",
       "<tr>\n",
       "  <th>Dep. Variable:</th>       <td>body_mass_g</td>   <th>  R-squared:         </th> <td>   0.806</td> \n",
       "</tr>\n",
       "<tr>\n",
       "  <th>Model:</th>                   <td>OLS</td>       <th>  Adj. R-squared:    </th> <td>   0.805</td> \n",
       "</tr>\n",
       "<tr>\n",
       "  <th>Method:</th>             <td>Least Squares</td>  <th>  F-statistic:       </th> <td>   684.8</td> \n",
       "</tr>\n",
       "<tr>\n",
       "  <th>Date:</th>             <td>Wed, 07 Aug 2024</td> <th>  Prob (F-statistic):</th> <td>3.53e-118</td>\n",
       "</tr>\n",
       "<tr>\n",
       "  <th>Time:</th>                 <td>20:58:19</td>     <th>  Log-Likelihood:    </th> <td> -2427.2</td> \n",
       "</tr>\n",
       "<tr>\n",
       "  <th>No. Observations:</th>      <td>   333</td>      <th>  AIC:               </th> <td>   4860.</td> \n",
       "</tr>\n",
       "<tr>\n",
       "  <th>Df Residuals:</th>          <td>   330</td>      <th>  BIC:               </th> <td>   4872.</td> \n",
       "</tr>\n",
       "<tr>\n",
       "  <th>Df Model:</th>              <td>     2</td>      <th>                     </th>     <td> </td>    \n",
       "</tr>\n",
       "<tr>\n",
       "  <th>Covariance Type:</th>      <td>nonrobust</td>    <th>                     </th>     <td> </td>    \n",
       "</tr>\n",
       "</table>\n",
       "<table class=\"simpletable\">\n",
       "<tr>\n",
       "          <td></td>             <th>coef</th>     <th>std err</th>      <th>t</th>      <th>P>|t|</th>  <th>[0.025</th>    <th>0.975]</th>  \n",
       "</tr>\n",
       "<tr>\n",
       "  <th>Intercept</th>         <td>-5410.3002</td> <td>  285.798</td> <td>  -18.931</td> <td> 0.000</td> <td>-5972.515</td> <td>-4848.085</td>\n",
       "</tr>\n",
       "<tr>\n",
       "  <th>C(sex)[T.male]</th>    <td>  347.8503</td> <td>   40.342</td> <td>    8.623</td> <td> 0.000</td> <td>  268.491</td> <td>  427.209</td>\n",
       "</tr>\n",
       "<tr>\n",
       "  <th>flipper_length_mm</th> <td>   46.9822</td> <td>    1.441</td> <td>   32.598</td> <td> 0.000</td> <td>   44.147</td> <td>   49.817</td>\n",
       "</tr>\n",
       "</table>\n",
       "<table class=\"simpletable\">\n",
       "<tr>\n",
       "  <th>Omnibus:</th>       <td> 0.262</td> <th>  Durbin-Watson:     </th> <td>   1.710</td>\n",
       "</tr>\n",
       "<tr>\n",
       "  <th>Prob(Omnibus):</th> <td> 0.877</td> <th>  Jarque-Bera (JB):  </th> <td>   0.376</td>\n",
       "</tr>\n",
       "<tr>\n",
       "  <th>Skew:</th>          <td> 0.051</td> <th>  Prob(JB):          </th> <td>   0.829</td>\n",
       "</tr>\n",
       "<tr>\n",
       "  <th>Kurtosis:</th>      <td> 2.870</td> <th>  Cond. No.          </th> <td>2.95e+03</td>\n",
       "</tr>\n",
       "</table><br/><br/>Notes:<br/>[1] Standard Errors assume that the covariance matrix of the errors is correctly specified.<br/>[2] The condition number is large, 2.95e+03. This might indicate that there are<br/>strong multicollinearity or other numerical problems."
      ],
      "text/plain": [
       "<class 'statsmodels.iolib.summary.Summary'>\n",
       "\"\"\"\n",
       "                            OLS Regression Results                            \n",
       "==============================================================================\n",
       "Dep. Variable:            body_mass_g   R-squared:                       0.806\n",
       "Model:                            OLS   Adj. R-squared:                  0.805\n",
       "Method:                 Least Squares   F-statistic:                     684.8\n",
       "Date:                Wed, 07 Aug 2024   Prob (F-statistic):          3.53e-118\n",
       "Time:                        20:58:19   Log-Likelihood:                -2427.2\n",
       "No. Observations:                 333   AIC:                             4860.\n",
       "Df Residuals:                     330   BIC:                             4872.\n",
       "Df Model:                           2                                         \n",
       "Covariance Type:            nonrobust                                         \n",
       "=====================================================================================\n",
       "                        coef    std err          t      P>|t|      [0.025      0.975]\n",
       "-------------------------------------------------------------------------------------\n",
       "Intercept         -5410.3002    285.798    -18.931      0.000   -5972.515   -4848.085\n",
       "C(sex)[T.male]      347.8503     40.342      8.623      0.000     268.491     427.209\n",
       "flipper_length_mm    46.9822      1.441     32.598      0.000      44.147      49.817\n",
       "==============================================================================\n",
       "Omnibus:                        0.262   Durbin-Watson:                   1.710\n",
       "Prob(Omnibus):                  0.877   Jarque-Bera (JB):                0.376\n",
       "Skew:                           0.051   Prob(JB):                        0.829\n",
       "Kurtosis:                       2.870   Cond. No.                     2.95e+03\n",
       "==============================================================================\n",
       "\n",
       "Notes:\n",
       "[1] Standard Errors assume that the covariance matrix of the errors is correctly specified.\n",
       "[2] The condition number is large, 2.95e+03. This might indicate that there are\n",
       "strong multicollinearity or other numerical problems.\n",
       "\"\"\""
      ]
     },
     "execution_count": 18,
     "metadata": {},
     "output_type": "execute_result"
    }
   ],
   "source": [
    "model_5 = (\n",
    "    smf.ols(\n",
    "    formula ='body_mass_g ~ flipper_length_mm + C(sex)',\n",
    "    data = preprocessed_penguins_df\n",
    "    )\n",
    ".fit()\n",
    ")\n",
    "model_5.summary()"
   ]
  },
  {
   "cell_type": "markdown",
   "metadata": {},
   "source": [
    "Como se puede observar, ya llegamos a una variabilidad en los datos de **0.80** que es muy significante porque en el anterior caso llegamos a **0.821** con 3 variables.\n",
    "\n",
    "Así pues nos acercamos mas, en lugar de combinar multiples variables.\n",
    "\n",
    "Jugar con este concepto me ayudará a entender que modelo funciona mejor y cual es el que mejor se adecua.\n",
    "\n",
    "Sin embargo existen estadísticos que nos ayudarán a saber cual es el mejor modelo de manera estadística. Ejemplos de ellos pueden ser;\n",
    "- Modelos de varianza: ANOVA.\n",
    "\n",
    "#### SOBRE LAS NOTAS\n",
    "[2] El numero de la condición es largo: Esto podría indicar que existe una particularidad o un problema numérico en nuestros datos. Recordemos que el coeficiente de relación de las clases pasadas entre las 2 variables, era alto y entonces esto es lo que quiere dar a entender este texto.\n",
    "\n",
    "Digamos que cobra significado cuando tienes una variable con la que estas intentando explicar otra, que está altamente relacionada con una segunda variable que tengamos en el conjunto de datos, y mientras que con una variable podamos observar que se modifican los valores de manera positiva, con otra podemos observar totalmente lo contrario. Es decir cuando las combinamos el comportamiento puede ser caótico o raro. Entonces siempre es bueno que cuando tratamos de hacer un modelo, observemos que tan relacionadas esta mis variables que voy a implementar, porque de no hacerlo nos podríamos enfrentar a la situación antes mencionada y el resultado podría no ser efectivo, es decir ya no podríamos confiar en los números y el resumen que me arroja el modelo. \n",
    "\n",
    "En este sentido no nos afecta."
   ]
  },
  {
   "cell_type": "code",
   "execution_count": 19,
   "metadata": {},
   "outputs": [
    {
     "data": {
      "text/plain": [
       "Intercept           -5410.300224\n",
       "C(sex)[T.male]        347.850254\n",
       "flipper_length_mm      46.982175\n",
       "dtype: float64"
      ]
     },
     "execution_count": 19,
     "metadata": {},
     "output_type": "execute_result"
    }
   ],
   "source": [
    "model_5.params"
   ]
  },
  {
   "cell_type": "markdown",
   "metadata": {},
   "source": [
    "Ahora ¿cómo puedo comparar mis modelos para saber cuales se ajustan mejor a mis datos reales? Lo veremos en la siguiente clase."
   ]
  },
  {
   "cell_type": "markdown",
   "metadata": {},
   "source": [
    "## Extras:\n",
    "- [¿Qué es la regresión lineal multiple y cómo analizarla?](https://networkianos.com/regresion-lineal-multiple/).\n",
    "- [Pasos para realizar una regresión lineal multiple con Python](https://yuasaavedraco.github.io/Docs/Regresi%C3%B3n_Lineal_M%C3%BAltiple_con_Python.html).\n",
    "- [REGRESIÓN LINEAL MÚLTIPLE FÁCIL](https://www.youtube.com/watch?v=BhqS9CLufhs)\n"
   ]
  }
 ],
 "metadata": {
  "kernelspec": {
   "display_name": "explorato",
   "language": "python",
   "name": "python3"
  },
  "language_info": {
   "codemirror_mode": {
    "name": "ipython",
    "version": 3
   },
   "file_extension": ".py",
   "mimetype": "text/x-python",
   "name": "python",
   "nbconvert_exporter": "python",
   "pygments_lexer": "ipython3",
   "version": "3.10.12"
  }
 },
 "nbformat": 4,
 "nbformat_minor": 2
}

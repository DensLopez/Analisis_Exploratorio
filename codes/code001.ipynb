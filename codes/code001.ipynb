{
 "cells": [
  {
   "cell_type": "markdown",
   "metadata": {},
   "source": [
    "# ¿Qué es y para qué sirve el análisis exploratorio de datos?"
   ]
  },
  {
   "cell_type": "markdown",
   "metadata": {},
   "source": [
    "Jesus Vélez Santiago     \n",
    "Científico genómico/datos.\n",
    "\n",
    "A través del:\n",
    "- Desarrollo de software\n",
    "- Matemáticas\n",
    "- Estadística "
   ]
  },
  {
   "cell_type": "markdown",
   "metadata": {},
   "source": [
    "## ¿Que aprenderás?\n",
    "- En este curso entenderás que es y para que sirve un análisis exploratorio de datos.\n",
    "- Conocerás los distintos tipos de análisis de datos que existen.\n",
    "- Identificaras distintos tipos de variables y análisis que se pueden realizar con ellas.\n",
    "- Serás capaz de explorar conjuntos de datos con 1, 2, 3 o más variables.\n",
    "- Identificaras las ventajas y desventajas de distintos tipos de visualización de datos."
   ]
  },
  {
   "cell_type": "markdown",
   "metadata": {},
   "source": [
    "## Conocimientos previos\n",
    "- Python y Jupyter Notebooks\n",
    "- Principios de visualización de datos.\n",
    "- Pandas y NumPy.\n",
    "- Matplotlib y Seaborn\n",
    "- Estadística."
   ]
  },
  {
   "cell_type": "markdown",
   "metadata": {},
   "source": [
    "## ¿Qué es el análisis exploratorio de datos?\n",
    "Es el procesos de conocer en detalle todos tus datos y darles sentido, visualizarlos por primera vez y ver como se comportan, que hay en ellos, cómo existen, qué variables tenemos, de que tipo son e indagar en ellos haciendo preguntas.\n",
    "\n",
    "En este proceso vamos a determinar como tratar a nuestros datos, vamos a interrogarlos para obtener las respuestas que necesitamos de acuerdo al problema que nos estemos enfrentando. Así lograr transformar estos datos en información útil, información de alto impacto apara tu empresa o para el problema que nos encontremos resolviendo. \n"
   ]
  }
 ],
 "metadata": {
  "language_info": {
   "name": "python"
  }
 },
 "nbformat": 4,
 "nbformat_minor": 2
}
